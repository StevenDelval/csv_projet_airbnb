{
 "cells": [
  {
   "cell_type": "code",
   "execution_count": 5,
   "metadata": {},
   "outputs": [],
   "source": [
    "import pandas as pd"
   ]
  },
  {
   "cell_type": "code",
   "execution_count": 8,
   "metadata": {},
   "outputs": [
    {
     "name": "stdout",
     "output_type": "stream",
     "text": [
      "paris\n",
      "61365\n",
      "8000\n",
      "bordeaux\n",
      "10885\n",
      "8000\n",
      "pays_basque\n",
      "13589\n",
      "8000\n",
      "lyon\n",
      "10934\n",
      "8000\n",
      "amsterdam\n",
      "6893\n",
      "6893\n",
      "antwerp\n",
      "2225\n",
      "2225\n",
      "bristol\n",
      "2376\n",
      "2376\n",
      "brussels\n",
      "6065\n",
      "6065\n",
      "ghent\n",
      "1126\n",
      "1126\n",
      "edinburgh\n",
      "7818\n",
      "7818\n",
      "greater_manchester\n",
      "4341\n",
      "4341\n",
      "london\n",
      "69351\n",
      "8000\n",
      "rotterdam\n",
      "1042\n",
      "1042\n",
      "the_hague\n",
      "1079\n",
      "1079\n"
     ]
    }
   ],
   "source": [
    "for city in [\"paris\",\"bordeaux\",\"pays_basque\",'lyon',\"amsterdam\",\"antwerp\",\"bristol\",\"brussels\",\"ghent\",\"edinburgh\",\"greater_manchester\",\"london\",\"rotterdam\",\"the_hague\"]:\n",
    "    \n",
    "    df = pd.read_csv(f\"{city}/listings_{city}.csv\")\n",
    "    if \"description\" in df.columns:\n",
    "        df[\"len_description\"] = df['description'].apply(lambda x: len(str(x)))\n",
    "    df = df[['id',\n",
    "       'len_description',  'host_id',\n",
    "       'host_name','host_response_rate', 'host_acceptance_rate',\n",
    "       'host_verifications',\n",
    "       'neighbourhood_cleansed', 'latitude',\n",
    "       'longitude', 'room_type','bathrooms',\n",
    "       'bathrooms_text', 'amenities', 'price',\n",
    "       'number_of_reviews']]\n",
    "    \n",
    "    if df.shape[0] > 8000:\n",
    "        df = df.sample(8000)\n",
    "   \n",
    "    \n",
    "    df.to_csv(f\"{city}/listings_{city}.csv\")"
   ]
  }
 ],
 "metadata": {
  "kernelspec": {
   "display_name": "Python 3.9.15 ('envdata')",
   "language": "python",
   "name": "python3"
  },
  "language_info": {
   "codemirror_mode": {
    "name": "ipython",
    "version": 3
   },
   "file_extension": ".py",
   "mimetype": "text/x-python",
   "name": "python",
   "nbconvert_exporter": "python",
   "pygments_lexer": "ipython3",
   "version": "3.9.15"
  },
  "orig_nbformat": 4,
  "vscode": {
   "interpreter": {
    "hash": "8a7d6de6d4c96ae5c9259ec6c5c5b0ed2327d657731542d2a999ddfbc99a240c"
   }
  }
 },
 "nbformat": 4,
 "nbformat_minor": 2
}
